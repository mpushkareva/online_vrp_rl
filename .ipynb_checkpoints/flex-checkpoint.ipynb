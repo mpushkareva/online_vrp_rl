{
 "cells": [
  {
   "cell_type": "code",
   "execution_count": 1,
   "id": "03d4ca08",
   "metadata": {
    "ExecuteTime": {
     "end_time": "2022-04-14T07:00:43.239410Z",
     "start_time": "2022-04-14T07:00:41.947392Z"
    }
   },
   "outputs": [],
   "source": [
    "import matplotlib.pyplot as plt\n",
    "import time\n",
    "\n",
    "from IPython.display import clear_output\n",
    "\n",
    "from flex_environment import Environment\n",
    "import itertools\n",
    "\n",
    "%matplotlib inline"
   ]
  },
  {
   "cell_type": "code",
   "execution_count": 2,
   "id": "e568dad0",
   "metadata": {
    "ExecuteTime": {
     "end_time": "2022-04-14T07:00:43.458138Z",
     "start_time": "2022-04-14T07:00:43.241186Z"
    }
   },
   "outputs": [],
   "source": [
    "env = Environment(orders_queue)\n",
    "s, reward, done = env.reset()\n",
    "\n",
    "i =0\n",
    "while i < 1000 and not done:\n",
    "    \n",
    "    action = policy(s, env) #(env, reward)\n",
    "    \n",
    "    s, reward, done = env.step(action)\n",
    "#     clear_output(True)\n",
    "#     if i % 5 == 0:\n",
    "#         x = [o.pos[0] for o in env.orders]\n",
    "#         y = [o.pos[1] for o in env.orders]\n",
    "#         c = [o.completed for o in env.orders]\n",
    "#         plt.scatter(x, y, c=c)\n",
    "\n",
    "#         x1 = [c.pos[0] for c in env.couriers]\n",
    "#         y1 = [c.pos[1] for c in env.couriers]\n",
    "#         plt.scatter(x1, y1)\n",
    "#         plt.show()\n",
    "#     time.sleep(0.5)\n",
    "    i += 1"
   ]
  },
  {
   "cell_type": "code",
   "execution_count": 3,
   "id": "ab699fc8",
   "metadata": {
    "ExecuteTime": {
     "end_time": "2022-04-14T07:00:55.290440Z",
     "start_time": "2022-04-14T07:00:55.279704Z"
    }
   },
   "outputs": [
    {
     "data": {
      "text/plain": [
       "True"
      ]
     },
     "execution_count": 3,
     "metadata": {},
     "output_type": "execute_result"
    }
   ],
   "source": [
    "env.done"
   ]
  },
  {
   "cell_type": "code",
   "execution_count": 4,
   "id": "8f1d8fab",
   "metadata": {
    "ExecuteTime": {
     "end_time": "2022-04-14T07:01:06.520296Z",
     "start_time": "2022-04-14T07:01:06.513827Z"
    }
   },
   "outputs": [
    {
     "data": {
      "text/plain": [
       "1259"
      ]
     },
     "execution_count": 4,
     "metadata": {},
     "output_type": "execute_result"
    }
   ],
   "source": [
    "env.time"
   ]
  },
  {
   "cell_type": "code",
   "execution_count": 5,
   "id": "97c557d4",
   "metadata": {
    "ExecuteTime": {
     "end_time": "2022-04-14T07:01:11.380929Z",
     "start_time": "2022-04-14T07:01:11.376504Z"
    }
   },
   "outputs": [
    {
     "data": {
      "text/plain": [
       "1260"
      ]
     },
     "execution_count": 5,
     "metadata": {},
     "output_type": "execute_result"
    }
   ],
   "source": [
    "env.end_time"
   ]
  },
  {
   "cell_type": "code",
   "execution_count": null,
   "id": "a076caab",
   "metadata": {},
   "outputs": [],
   "source": [
    "df_list = [[]]"
   ]
  }
 ],
 "metadata": {
  "kernelspec": {
   "display_name": "Python 3 (ipykernel)",
   "language": "python",
   "name": "python3"
  },
  "language_info": {
   "codemirror_mode": {
    "name": "ipython",
    "version": 3
   },
   "file_extension": ".py",
   "mimetype": "text/x-python",
   "name": "python",
   "nbconvert_exporter": "python",
   "pygments_lexer": "ipython3",
   "version": "3.8.8"
  },
  "toc": {
   "base_numbering": 1,
   "nav_menu": {},
   "number_sections": true,
   "sideBar": true,
   "skip_h1_title": false,
   "title_cell": "Table of Contents",
   "title_sidebar": "Contents",
   "toc_cell": false,
   "toc_position": {},
   "toc_section_display": true,
   "toc_window_display": false
  }
 },
 "nbformat": 4,
 "nbformat_minor": 5
}
