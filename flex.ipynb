{
 "cells": [
  {
   "cell_type": "code",
<<<<<<< HEAD
   "execution_count": 16,
   "id": "03d4ca08",
   "metadata": {
    "ExecuteTime": {
     "end_time": "2022-03-16T08:54:24.192983Z",
     "start_time": "2022-03-16T08:54:24.189792Z"
=======
   "execution_count": 1,
   "id": "03d4ca08",
   "metadata": {
    "ExecuteTime": {
     "end_time": "2022-04-14T07:00:43.239410Z",
     "start_time": "2022-04-14T07:00:41.947392Z"
>>>>>>> e82554f (initial commit)
    }
   },
   "outputs": [],
   "source": [
    "import matplotlib.pyplot as plt\n",
<<<<<<< HEAD
    "from flex_environment import Orders, Couriers, Environment"
=======
    "import time\n",
    "\n",
    "from IPython.display import clear_output\n",
    "\n",
    "from flex_environment import Environment\n",
    "import itertools\n",
    "\n",
    "%matplotlib inline"
>>>>>>> e82554f (initial commit)
   ]
  },
  {
   "cell_type": "code",
<<<<<<< HEAD
   "execution_count": 17,
   "id": "4d90d9b8",
   "metadata": {
    "ExecuteTime": {
     "end_time": "2022-03-16T08:54:24.494612Z",
     "start_time": "2022-03-16T08:54:24.490514Z"
    }
   },
   "outputs": [],
   "source": [
    "orders = Orders()\n",
    "couriers = Couriers()\n",
    "env = Environment()"
   ]
  },
  {
   "cell_type": "code",
   "execution_count": 18,
   "id": "981fa06b",
   "metadata": {
    "ExecuteTime": {
     "end_time": "2022-03-16T08:54:24.773829Z",
     "start_time": "2022-03-16T08:54:24.755327Z"
=======
   "execution_count": 3,
   "id": "e568dad0",
   "metadata": {
    "ExecuteTime": {
     "end_time": "2022-04-14T07:00:43.458138Z",
     "start_time": "2022-04-14T07:00:43.241186Z"
>>>>>>> e82554f (initial commit)
    }
   },
   "outputs": [
    {
<<<<<<< HEAD
     "ename": "TypeError",
     "evalue": "unsupported operand type(s) for -: 'int' and 'tuple'",
     "output_type": "error",
     "traceback": [
      "\u001b[0;31m---------------------------------------------------------------------------\u001b[0m",
      "\u001b[0;31mTypeError\u001b[0m                                 Traceback (most recent call last)",
      "\u001b[0;32m<ipython-input-18-ddf106164da5>\u001b[0m in \u001b[0;36m<module>\u001b[0;34m\u001b[0m\n\u001b[0;32m----> 1\u001b[0;31m \u001b[0menv\u001b[0m\u001b[0;34m.\u001b[0m\u001b[0mstep\u001b[0m\u001b[0;34m(\u001b[0m\u001b[0mcouriers\u001b[0m\u001b[0;34m,\u001b[0m \u001b[0morders\u001b[0m\u001b[0;34m)\u001b[0m\u001b[0;34m\u001b[0m\u001b[0;34m\u001b[0m\u001b[0m\n\u001b[0m",
      "\u001b[0;32m~/Documents/online_vrp_rl/flex_environment.py\u001b[0m in \u001b[0;36mstep\u001b[0;34m(self, couriers, orders)\u001b[0m\n\u001b[1;32m    101\u001b[0m         \u001b[0;32mreturn\u001b[0m \u001b[0morders\u001b[0m\u001b[0;34m.\u001b[0m\u001b[0mn_orders\u001b[0m\u001b[0;34m,\u001b[0m \u001b[0mrandom\u001b[0m\u001b[0;34m.\u001b[0m\u001b[0mchoice\u001b[0m\u001b[0;34m(\u001b[0m\u001b[0mrange\u001b[0m\u001b[0;34m(\u001b[0m\u001b[0mcouriers\u001b[0m\u001b[0;34m.\u001b[0m\u001b[0mn_couriers\u001b[0m\u001b[0;34m)\u001b[0m\u001b[0;34m)\u001b[0m\u001b[0;34m\u001b[0m\u001b[0;34m\u001b[0m\u001b[0m\n\u001b[1;32m    102\u001b[0m \u001b[0;34m\u001b[0m\u001b[0m\n\u001b[0;32m--> 103\u001b[0;31m     \u001b[0;32mdef\u001b[0m \u001b[0mstep\u001b[0m\u001b[0;34m(\u001b[0m\u001b[0mself\u001b[0m\u001b[0;34m,\u001b[0m \u001b[0mcouriers\u001b[0m\u001b[0;34m,\u001b[0m \u001b[0morders\u001b[0m\u001b[0;34m)\u001b[0m\u001b[0;34m:\u001b[0m\u001b[0;34m\u001b[0m\u001b[0;34m\u001b[0m\u001b[0m\n\u001b[0m\u001b[1;32m    104\u001b[0m         \u001b[0;32mif\u001b[0m \u001b[0;32mnot\u001b[0m \u001b[0morders\u001b[0m\u001b[0;34m.\u001b[0m\u001b[0mend_game\u001b[0m\u001b[0;34m:\u001b[0m\u001b[0;34m\u001b[0m\u001b[0;34m\u001b[0m\u001b[0m\n\u001b[1;32m    105\u001b[0m             \u001b[0morders\u001b[0m\u001b[0;34m.\u001b[0m\u001b[0mstep\u001b[0m\u001b[0;34m(\u001b[0m\u001b[0;34m)\u001b[0m\u001b[0;34m\u001b[0m\u001b[0;34m\u001b[0m\u001b[0m\n",
      "\u001b[0;32m~/Documents/online_vrp_rl/flex_environment.py\u001b[0m in \u001b[0;36mupdate_env\u001b[0;34m(self, couriers, orders)\u001b[0m\n\u001b[1;32m     73\u001b[0m             \u001b[0mprint\u001b[0m\u001b[0;34m(\u001b[0m\u001b[0;34m'b'\u001b[0m\u001b[0;34m)\u001b[0m\u001b[0;34m\u001b[0m\u001b[0;34m\u001b[0m\u001b[0m\n\u001b[1;32m     74\u001b[0m             \u001b[0;32mfor\u001b[0m \u001b[0mroute_point\u001b[0m \u001b[0;32min\u001b[0m \u001b[0mcouriers\u001b[0m\u001b[0;34m.\u001b[0m\u001b[0mcourier2route\u001b[0m\u001b[0;34m[\u001b[0m\u001b[0mcourier\u001b[0m\u001b[0;34m]\u001b[0m\u001b[0;34m:\u001b[0m\u001b[0;34m\u001b[0m\u001b[0;34m\u001b[0m\u001b[0m\n\u001b[0;32m---> 75\u001b[0;31m                 \u001b[0mprint\u001b[0m\u001b[0;34m(\u001b[0m\u001b[0;34m'a'\u001b[0m\u001b[0;34m,\u001b[0m \u001b[0mlast_pos\u001b[0m\u001b[0;34m,\u001b[0m \u001b[0mcouriers\u001b[0m\u001b[0;34m.\u001b[0m\u001b[0mdepot_pos\u001b[0m\u001b[0;34m,\u001b[0m \u001b[0mcouriers\u001b[0m\u001b[0;34m.\u001b[0m\u001b[0mvelocity\u001b[0m\u001b[0;34m)\u001b[0m\u001b[0;34m\u001b[0m\u001b[0;34m\u001b[0m\u001b[0m\n\u001b[0m\u001b[1;32m     76\u001b[0m                 \u001b[0mnext_pos\u001b[0m \u001b[0;34m=\u001b[0m \u001b[0;34m[\u001b[0m\u001b[0mcouriers\u001b[0m\u001b[0;34m.\u001b[0m\u001b[0mdepot_pos\u001b[0m \u001b[0;32mif\u001b[0m \u001b[0mroute_point\u001b[0m \u001b[0;34m==\u001b[0m \u001b[0mcouriers\u001b[0m\u001b[0;34m.\u001b[0m\u001b[0mdepot\u001b[0m \u001b[0;32melse\u001b[0m \u001b[0morders\u001b[0m\u001b[0;34m.\u001b[0m\u001b[0morder2pos\u001b[0m\u001b[0;34m[\u001b[0m\u001b[0mroute_point\u001b[0m\u001b[0;34m]\u001b[0m\u001b[0;34m]\u001b[0m\u001b[0;34m\u001b[0m\u001b[0;34m\u001b[0m\u001b[0m\n\u001b[1;32m     77\u001b[0m                 \u001b[0mprint\u001b[0m\u001b[0;34m(\u001b[0m\u001b[0mlast_pos\u001b[0m\u001b[0;34m,\u001b[0m \u001b[0mnext_pos\u001b[0m\u001b[0;34m,\u001b[0m \u001b[0mlast_pos\u001b[0m\u001b[0;34m,\u001b[0m \u001b[0mnext_pos\u001b[0m\u001b[0;34m,\u001b[0m \u001b[0mcouriers\u001b[0m\u001b[0;34m.\u001b[0m\u001b[0mvelocity\u001b[0m\u001b[0;34m)\u001b[0m\u001b[0;34m\u001b[0m\u001b[0;34m\u001b[0m\u001b[0m\n",
      "\u001b[0;31mTypeError\u001b[0m: unsupported operand type(s) for -: 'int' and 'tuple'"
=======
     "ename": "AttributeError",
     "evalue": "'Courier' object has no attribute 'works'",
     "output_type": "error",
     "traceback": [
      "\u001b[1;31m---------------------------------------------------------------------------\u001b[0m",
      "\u001b[1;31mAttributeError\u001b[0m                            Traceback (most recent call last)",
      "Input \u001b[1;32mIn [3]\u001b[0m, in \u001b[0;36m<cell line: 2>\u001b[1;34m()\u001b[0m\n\u001b[0;32m      1\u001b[0m env \u001b[38;5;241m=\u001b[39m Environment()\n\u001b[1;32m----> 2\u001b[0m s, reward, done \u001b[38;5;241m=\u001b[39m \u001b[43menv\u001b[49m\u001b[38;5;241;43m.\u001b[39;49m\u001b[43mreset\u001b[49m\u001b[43m(\u001b[49m\u001b[43m)\u001b[49m\n\u001b[0;32m      4\u001b[0m i \u001b[38;5;241m=\u001b[39m\u001b[38;5;241m0\u001b[39m\n\u001b[0;32m      5\u001b[0m \u001b[38;5;28;01mwhile\u001b[39;00m i \u001b[38;5;241m<\u001b[39m \u001b[38;5;241m1000\u001b[39m \u001b[38;5;129;01mand\u001b[39;00m \u001b[38;5;129;01mnot\u001b[39;00m done:\n",
      "File \u001b[1;32m~\\Documents\\online-vrp-rl\\flex_environment.py:45\u001b[0m, in \u001b[0;36mEnvironment.reset\u001b[1;34m(self)\u001b[0m\n\u001b[0;32m     43\u001b[0m         \u001b[38;5;28mself\u001b[39m\u001b[38;5;241m.\u001b[39mtime \u001b[38;5;241m+\u001b[39m\u001b[38;5;241m=\u001b[39m period\n\u001b[0;32m     44\u001b[0m         \u001b[38;5;28mself\u001b[39m\u001b[38;5;241m.\u001b[39mdone \u001b[38;5;241m=\u001b[39m \u001b[38;5;28;01mFalse\u001b[39;00m\n\u001b[1;32m---> 45\u001b[0m         \u001b[38;5;28;01mreturn\u001b[39;00m \u001b[38;5;28;43mself\u001b[39;49m\u001b[38;5;241;43m.\u001b[39;49m\u001b[43mtotal_reward\u001b[49m\u001b[43m(\u001b[49m\u001b[43m)\u001b[49m, \u001b[38;5;28mself\u001b[39m\u001b[38;5;241m.\u001b[39mdone  \u001b[38;5;66;03m# reward, done\u001b[39;00m\n\u001b[0;32m     46\u001b[0m \u001b[38;5;28mself\u001b[39m\u001b[38;5;241m.\u001b[39mdone \u001b[38;5;241m=\u001b[39m \u001b[38;5;28;01mTrue\u001b[39;00m\n\u001b[0;32m     47\u001b[0m \u001b[38;5;28;01mreturn\u001b[39;00m \u001b[38;5;28mself\u001b[39m\u001b[38;5;241m.\u001b[39mtotal_reward(), \u001b[38;5;28mself\u001b[39m\u001b[38;5;241m.\u001b[39mdone\n",
      "File \u001b[1;32m~\\Documents\\online-vrp-rl\\flex_environment.py:71\u001b[0m, in \u001b[0;36mEnvironment.total_reward\u001b[1;34m(self)\u001b[0m\n\u001b[0;32m     68\u001b[0m overtimes \u001b[38;5;241m=\u001b[39m (order\u001b[38;5;241m.\u001b[39mcompleted_order2time \u001b[38;5;241m-\u001b[39m order\u001b[38;5;241m.\u001b[39mdeliver_time \u001b[38;5;28;01mif\u001b[39;00m order\u001b[38;5;241m.\u001b[39mcompleted\n\u001b[0;32m     69\u001b[0m              \u001b[38;5;28;01melse\u001b[39;00m \u001b[38;5;28mself\u001b[39m\u001b[38;5;241m.\u001b[39mtime \u001b[38;5;241m-\u001b[39m order\u001b[38;5;241m.\u001b[39mdeliver_time \u001b[38;5;28;01mfor\u001b[39;00m order \u001b[38;5;129;01min\u001b[39;00m \u001b[38;5;28mself\u001b[39m\u001b[38;5;241m.\u001b[39morders)\n\u001b[0;32m     70\u001b[0m \u001b[38;5;66;03m# Стоимость работы дня курьера + награда за выполненный заказ + штраф за заказ не выполненный вовремя.\u001b[39;00m\n\u001b[1;32m---> 71\u001b[0m reward \u001b[38;5;241m=\u001b[39m \u001b[38;5;241m-\u001b[39m \u001b[38;5;28;43msum\u001b[39;49m\u001b[43m(\u001b[49m\u001b[43m(\u001b[49m\u001b[43mcourier\u001b[49m\u001b[38;5;241;43m.\u001b[39;49m\u001b[43mworks\u001b[49m\u001b[43m \u001b[49m\u001b[38;5;28;43;01mfor\u001b[39;49;00m\u001b[43m \u001b[49m\u001b[43mcourier\u001b[49m\u001b[43m \u001b[49m\u001b[38;5;129;43;01min\u001b[39;49;00m\u001b[43m \u001b[49m\u001b[38;5;28;43mself\u001b[39;49m\u001b[38;5;241;43m.\u001b[39;49m\u001b[43mcouriers\u001b[49m\u001b[43m)\u001b[49m\u001b[43m)\u001b[49m \u001b[38;5;241m*\u001b[39m \u001b[38;5;28mself\u001b[39m\u001b[38;5;241m.\u001b[39mcourier_pay \u001b[38;5;241m+\u001b[39m \\\n\u001b[0;32m     72\u001b[0m               \u001b[38;5;28mself\u001b[39m\u001b[38;5;241m.\u001b[39mreward_by_order \u001b[38;5;241m*\u001b[39m \u001b[38;5;28msum\u001b[39m((order\u001b[38;5;241m.\u001b[39mcompleted \u001b[38;5;28;01mfor\u001b[39;00m order \u001b[38;5;129;01min\u001b[39;00m \u001b[38;5;28mself\u001b[39m\u001b[38;5;241m.\u001b[39morders)) \u001b[38;5;241m+\u001b[39m \\\n\u001b[0;32m     73\u001b[0m               \u001b[38;5;28msum\u001b[39m((\u001b[38;5;28mmax\u001b[39m(overtime, \u001b[38;5;241m0\u001b[39m) \u001b[38;5;241m*\u001b[39m \u001b[38;5;28mself\u001b[39m\u001b[38;5;241m.\u001b[39mpenalty_by_hour \u001b[38;5;28;01mfor\u001b[39;00m overtime \u001b[38;5;129;01min\u001b[39;00m overtimes))\n\u001b[0;32m     74\u001b[0m \u001b[38;5;28mself\u001b[39m\u001b[38;5;241m.\u001b[39mrewards\u001b[38;5;241m.\u001b[39mappend(reward)\n\u001b[0;32m     75\u001b[0m \u001b[38;5;28;01mreturn\u001b[39;00m reward\n",
      "File \u001b[1;32m~\\Documents\\online-vrp-rl\\flex_environment.py:71\u001b[0m, in \u001b[0;36m<genexpr>\u001b[1;34m(.0)\u001b[0m\n\u001b[0;32m     68\u001b[0m overtimes \u001b[38;5;241m=\u001b[39m (order\u001b[38;5;241m.\u001b[39mcompleted_order2time \u001b[38;5;241m-\u001b[39m order\u001b[38;5;241m.\u001b[39mdeliver_time \u001b[38;5;28;01mif\u001b[39;00m order\u001b[38;5;241m.\u001b[39mcompleted\n\u001b[0;32m     69\u001b[0m              \u001b[38;5;28;01melse\u001b[39;00m \u001b[38;5;28mself\u001b[39m\u001b[38;5;241m.\u001b[39mtime \u001b[38;5;241m-\u001b[39m order\u001b[38;5;241m.\u001b[39mdeliver_time \u001b[38;5;28;01mfor\u001b[39;00m order \u001b[38;5;129;01min\u001b[39;00m \u001b[38;5;28mself\u001b[39m\u001b[38;5;241m.\u001b[39morders)\n\u001b[0;32m     70\u001b[0m \u001b[38;5;66;03m# Стоимость работы дня курьера + награда за выполненный заказ + штраф за заказ не выполненный вовремя.\u001b[39;00m\n\u001b[1;32m---> 71\u001b[0m reward \u001b[38;5;241m=\u001b[39m \u001b[38;5;241m-\u001b[39m \u001b[38;5;28msum\u001b[39m((\u001b[43mcourier\u001b[49m\u001b[38;5;241;43m.\u001b[39;49m\u001b[43mworks\u001b[49m \u001b[38;5;28;01mfor\u001b[39;00m courier \u001b[38;5;129;01min\u001b[39;00m \u001b[38;5;28mself\u001b[39m\u001b[38;5;241m.\u001b[39mcouriers)) \u001b[38;5;241m*\u001b[39m \u001b[38;5;28mself\u001b[39m\u001b[38;5;241m.\u001b[39mcourier_pay \u001b[38;5;241m+\u001b[39m \\\n\u001b[0;32m     72\u001b[0m               \u001b[38;5;28mself\u001b[39m\u001b[38;5;241m.\u001b[39mreward_by_order \u001b[38;5;241m*\u001b[39m \u001b[38;5;28msum\u001b[39m((order\u001b[38;5;241m.\u001b[39mcompleted \u001b[38;5;28;01mfor\u001b[39;00m order \u001b[38;5;129;01min\u001b[39;00m \u001b[38;5;28mself\u001b[39m\u001b[38;5;241m.\u001b[39morders)) \u001b[38;5;241m+\u001b[39m \\\n\u001b[0;32m     73\u001b[0m               \u001b[38;5;28msum\u001b[39m((\u001b[38;5;28mmax\u001b[39m(overtime, \u001b[38;5;241m0\u001b[39m) \u001b[38;5;241m*\u001b[39m \u001b[38;5;28mself\u001b[39m\u001b[38;5;241m.\u001b[39mpenalty_by_hour \u001b[38;5;28;01mfor\u001b[39;00m overtime \u001b[38;5;129;01min\u001b[39;00m overtimes))\n\u001b[0;32m     74\u001b[0m \u001b[38;5;28mself\u001b[39m\u001b[38;5;241m.\u001b[39mrewards\u001b[38;5;241m.\u001b[39mappend(reward)\n\u001b[0;32m     75\u001b[0m \u001b[38;5;28;01mreturn\u001b[39;00m reward\n",
      "\u001b[1;31mAttributeError\u001b[0m: 'Courier' object has no attribute 'works'"
>>>>>>> e82554f (initial commit)
     ]
    }
   ],
   "source": [
<<<<<<< HEAD
    "env.step(couriers, orders)"
   ]
  },
  {
   "cell_type": "code",
   "execution_count": 22,
   "id": "be0fabcf",
   "metadata": {
    "ExecuteTime": {
     "end_time": "2022-02-17T13:06:09.751137Z",
     "start_time": "2022-02-17T13:06:09.746387Z"
    }
   },
   "outputs": [
    {
     "data": {
      "text/plain": [
       "1"
      ]
     },
     "execution_count": 22,
     "metadata": {},
     "output_type": "execute_result"
    }
   ],
   "source": [
    "orders.n_orders"
   ]
  },
  {
   "cell_type": "code",
   "execution_count": 23,
   "id": "e568dad0",
   "metadata": {
    "ExecuteTime": {
     "end_time": "2022-02-17T13:06:10.967295Z",
     "start_time": "2022-02-17T13:06:10.843473Z"
    }
   },
   "outputs": [
    {
     "data": {
      "text/plain": [
       "<matplotlib.collections.PathCollection at 0x7f8bc8996dc0>"
      ]
     },
     "execution_count": 23,
     "metadata": {},
     "output_type": "execute_result"
    },
    {
     "data": {
      "image/png": "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\n",
      "text/plain": [
       "<Figure size 432x288 with 1 Axes>"
      ]
     },
     "metadata": {
      "needs_background": "light"
     },
     "output_type": "display_data"
    }
   ],
   "source": [
    "x = [coords[0] for o, coords in orders.order2pos.items()]\n",
    "y = [coords[1] for o, coords in orders.order2pos.items()]\n",
    "plt.scatter(x, y)\n",
    "\n",
    "x1 = [coords[0] for c, coords in couriers.courier2pos.items()]\n",
    "y1 = [coords[1] for c, coords in couriers.courier2pos.items()]\n",
    "plt.scatter(x1, y1)"
=======
    "env = Environment()\n",
    "s, reward, done = env.reset()\n",
    "\n",
    "i =0\n",
    "while i < 1000 and not done:\n",
    "    \n",
    "    action = policy(s, env) #(env, reward)\n",
    "    \n",
    "    s, reward, done = env.step(action)\n",
    "#     clear_output(True)\n",
    "#     if i % 5 == 0:\n",
    "#         x = [o.pos[0] for o in env.orders]\n",
    "#         y = [o.pos[1] for o in env.orders]\n",
    "#         c = [o.completed for o in env.orders]\n",
    "#         plt.scatter(x, y, c=c)\n",
    "\n",
    "#         x1 = [c.pos[0] for c in env.couriers]\n",
    "#         y1 = [c.pos[1] for c in env.couriers]\n",
    "#         plt.scatter(x1, y1)\n",
    "#         plt.show()\n",
    "#     time.sleep(0.5)\n",
    "    i += 1"
   ]
  },
  {
   "cell_type": "code",
   "execution_count": 3,
   "id": "ab699fc8",
   "metadata": {
    "ExecuteTime": {
     "end_time": "2022-04-14T07:00:55.290440Z",
     "start_time": "2022-04-14T07:00:55.279704Z"
    }
   },
   "outputs": [
    {
     "data": {
      "text/plain": [
       "True"
      ]
     },
     "execution_count": 3,
     "metadata": {},
     "output_type": "execute_result"
    }
   ],
   "source": [
    "env.done"
   ]
  },
  {
   "cell_type": "code",
   "execution_count": 4,
   "id": "8f1d8fab",
   "metadata": {
    "ExecuteTime": {
     "end_time": "2022-04-14T07:01:06.520296Z",
     "start_time": "2022-04-14T07:01:06.513827Z"
    }
   },
   "outputs": [
    {
     "data": {
      "text/plain": [
       "1259"
      ]
     },
     "execution_count": 4,
     "metadata": {},
     "output_type": "execute_result"
    }
   ],
   "source": [
    "env.time"
   ]
  },
  {
   "cell_type": "code",
   "execution_count": 5,
   "id": "97c557d4",
   "metadata": {
    "ExecuteTime": {
     "end_time": "2022-04-14T07:01:11.380929Z",
     "start_time": "2022-04-14T07:01:11.376504Z"
    }
   },
   "outputs": [
    {
     "data": {
      "text/plain": [
       "1260"
      ]
     },
     "execution_count": 5,
     "metadata": {},
     "output_type": "execute_result"
    }
   ],
   "source": [
    "env.end_time"
>>>>>>> e82554f (initial commit)
   ]
  },
  {
   "cell_type": "code",
   "execution_count": null,
<<<<<<< HEAD
   "id": "3b0b8e5d",
   "metadata": {},
   "outputs": [],
   "source": []
=======
   "id": "a076caab",
   "metadata": {},
   "outputs": [],
   "source": [
    "df_list = [[]]"
   ]
>>>>>>> e82554f (initial commit)
  }
 ],
 "metadata": {
  "kernelspec": {
<<<<<<< HEAD
   "display_name": "Python 3",
=======
   "display_name": "Python 3 (ipykernel)",
>>>>>>> e82554f (initial commit)
   "language": "python",
   "name": "python3"
  },
  "language_info": {
   "codemirror_mode": {
    "name": "ipython",
    "version": 3
   },
   "file_extension": ".py",
   "mimetype": "text/x-python",
   "name": "python",
   "nbconvert_exporter": "python",
   "pygments_lexer": "ipython3",
   "version": "3.8.8"
  },
  "toc": {
   "base_numbering": 1,
   "nav_menu": {},
   "number_sections": true,
   "sideBar": true,
   "skip_h1_title": false,
   "title_cell": "Table of Contents",
   "title_sidebar": "Contents",
   "toc_cell": false,
   "toc_position": {},
   "toc_section_display": true,
   "toc_window_display": false
  }
 },
 "nbformat": 4,
 "nbformat_minor": 5
}
